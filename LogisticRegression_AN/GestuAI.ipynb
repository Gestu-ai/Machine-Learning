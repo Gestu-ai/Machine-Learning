{
 "cells": [
  {
   "cell_type": "markdown",
   "metadata": {
    "id": "LADeASrgcX9Q"
   },
   "source": [
    "# Logistic Regression"
   ]
  },
  {
   "cell_type": "markdown",
   "metadata": {
    "id": "ll8-Agk123c6"
   },
   "source": [
    "# Description\n",
    "Logistic Regression is a core\n",
    "supervised learning technique for solving classification problems and is commonly used by many data scientists and statisticians. It models the probabilities for a classification model and ouputs categorical prediction, like for example if a patient will pass an exam or not as {1, 0} or {True, False}.\n",
    "\n"
   ]
  },
  {
   "cell_type": "markdown",
   "metadata": {
    "id": "7xStON5oktpz"
   },
   "source": [
    "### Classification problem"
   ]
  },
  {
   "cell_type": "markdown",
   "metadata": {
    "id": "EGfYh7sPlDqh"
   },
   "source": [
    "In a classification problem, the target values are called labels. Each label corresponds to a certain class such as “car”, “blue” or “malignant.” Each instance belongs to a certain class, thus having a label. Both the labels and classes have to be unique, but more than one instance per class is allowed. Usually each class’ label has an integer value starting at 0 and following classes get a label of 1, 2, 3, etc. This gives us the property that $ y^{(i)} \\in \\{0, 1, ..., \\boldsymbol K\\}$ where $ \\boldsymbol K$ is the number of classes.\n",
    "\n",
    "Here we will focus on the binary classification where K = 2. 0-classes are the negatives (absence) and 1 (Presence) are the positives ones.\n",
    "\n",
    "Another way to look at this is that for negatives there is a  $0\\%$ chance of something occurring where for positives there’s a  $100\\%$ chance. These percentages will, hopefully, be the output of a logistic regression model."
   ]
  },
  {
   "cell_type": "code",
   "execution_count": null,
   "metadata": {
    "id": "dkyrDZdTktR0"
   },
   "outputs": [],
   "source": []
  },
  {
   "cell_type": "markdown",
   "metadata": {
    "id": "q2Nl7K2fqZEc"
   },
   "source": [
    "# Modelling"
   ]
  },
  {
   "cell_type": "markdown",
   "metadata": {
    "id": "4lZvgL8wqc9i"
   },
   "source": [
    "In here we need a way to map input values to output values. Note that in a linear regression model, the hypothesis is defined as $h_\\theta(x) = \\theta^Tx$, where $\\theta$ is the parameter of the model. It can output values much greater than 1 and much smaller than 0. In contrast, in the logistic regression setting we would like to get values between 0 and 1. In other words, we want $h_\\theta(x)$ to be in the interval $[0, 1]$, so we can interpret the output as probabilities. To achieve this, we use the sigmoid function:\n",
    "$\\sigma(z) = \\frac {1}{1 + e^{(-z)}}$\n",
    "\n",
    "It is easy to see why it's used when you look at its graph:\n",
    " <img src=\"main-qimg-6b67bea3311c3429bfb34b6b1737fe0c.jpeg\">\n",
    "\n",
    "\n",
    "\n",
    "For values $x < 0 $ we have that $ \\sigma(x) > 0.5$ and for $ x < 0$ we have $ \\sigma(x) > 0.5$. \n",
    "In Python we can define the sigmoid function as below.\n",
    "\n",
    "\n"
   ]
  },
  {
   "cell_type": "code",
   "execution_count": 83,
   "metadata": {
    "executionInfo": {
     "elapsed": 794,
     "status": "ok",
     "timestamp": 1602523516535,
     "user": {
      "displayName": "Aissatou Ndoye",
      "photoUrl": "https://lh3.googleusercontent.com/a-/AOh14Gjwcgqyi13N4EhUJtws9gc53KiQyuA1tBnfHv3H1g=s64",
      "userId": "14336879535012603883"
     },
     "user_tz": -120
    },
    "id": "wdCmSrl1qbWx"
   },
   "outputs": [],
   "source": [
    "def sigmoid(z):\n",
    "    \"\"\" sigmoid \"\"\"\n",
    "    return 1.0 / (1.0 + np.exp(-z))"
   ]
  },
  {
   "cell_type": "markdown",
   "metadata": {
    "id": "vy4V2PvixmYL"
   },
   "source": []
  },
  {
   "cell_type": "markdown",
   "metadata": {
    "id": "2GTRStAtBkPi"
   },
   "source": [
    "### Hypothesis"
   ]
  },
  {
   "cell_type": "markdown",
   "metadata": {
    "id": "cL1zeTTeyLG2"
   },
   "source": [
    "In order to output probabilities, our hypothesis will be defined as $h_\\theta (x) = \\sigma(\\theta^Tx)$ where $\\sigma(\\theta^Tx) = \\frac {1}{1 + e^{(-\\theta^Tx)}}$\n",
    "\n",
    "We have now a model that outputs probabilities of an example belonging to the positive class, or $P(y = 1|x;\\theta)$ in mathematical terms. For negative classes we have $P(y = 0|x;\\theta) = 1 - P(y = 1|x;\\theta)$.\n",
    "\n",
    "During training we will modify the values of $\\theta$ to yield high values for ${\\theta^Tx}$ when $x$ is a positive example, and vice versa."
   ]
  },
  {
   "cell_type": "code",
   "execution_count": 84,
   "metadata": {
    "executionInfo": {
     "elapsed": 710,
     "status": "ok",
     "timestamp": 1602523519472,
     "user": {
      "displayName": "Aissatou Ndoye",
      "photoUrl": "https://lh3.googleusercontent.com/a-/AOh14Gjwcgqyi13N4EhUJtws9gc53KiQyuA1tBnfHv3H1g=s64",
      "userId": "14336879535012603883"
     },
     "user_tz": -120
    },
    "id": "zoMzVN77yKzf"
   },
   "outputs": [],
   "source": [
    "#Hypothesis function\n",
    "def h(X, theta):\n",
    "    '''args:\n",
    "            X: (N,M) features matrix\n",
    "            theta:(M, D) vector of parameters\n",
    "        return:\n",
    "                h(theta.X)'''\n",
    "    return sigmoid(X @ theta)"
   ]
  },
  {
   "cell_type": "markdown",
   "metadata": {
    "id": "rQoQMzKaBkPl"
   },
   "source": [
    "### Decision boundary\n",
    "To make a final decision about which class a certain example  belongs to we define a certain threshold. If  $h$ exceeds that threshold we predict $1$, otherwise $0$. We most normally use $0.5$, we are more than  $50\\%$ sure something will happen, but it depends on the context.\n",
    "\n",
    "The decision boundary is then a n-1 dimensional surface that divides the features space in two.  If you cross that surface the prediction about your class will change. The further you move away from the decision boundary the more certain you are about belonging to the class you’re in"
   ]
  },
  {
   "cell_type": "markdown",
   "metadata": {
    "id": "QIvcOEXhcsQ7"
   },
   "source": [
    "## The loss function\n",
    "\n",
    "The loss function will allow us to minimize the error made while predicting a sample.\n",
    "\n",
    "Let's look at the mean squared error loss function:\n",
    "$\n",
    "J(\\theta) = \\sum_{i=1}^{m} (h_\\theta(x^{(i)}) - y^{(i)})^2$\n",
    "\n",
    "It can be used to optimize the euclidean distance between a prediction and the target. While using this function would work with logistic regression, it turns out that it’s very hard to optimize with an optimization algorithm like gradient descent. The reason for this is because the loss function is very non-convex as a result of the nonlinearity of $\\sigma$. In other words, we have more than one minimum and we’re not sure whether a certain minimum is the best fit for our model.\n",
    "That’s the reason we use another loss function:\n",
    "\n",
    "$J(\\theta) = \\begin{cases} -log(1 - h_\\theta(x)), & \\mbox{if } y = 0 \\\\ -log(h_\\theta(x)), & \\mbox{if } y = 1 \\end{cases}$"
   ]
  },
  {
   "cell_type": "markdown",
   "metadata": {
    "id": "cnvm9aA2c7Hd"
   },
   "source": [
    "Let’s break that down by looking at a few examples. Suppose we have the label $y^{(i)}$ and the prediction $h_\\theta(x^{(i)})$:\n",
    "\n",
    "if $y^{(i)} = h_\\theta(x^{(i)} = 0$ we have a loss of \n",
    "$-log(1 - h_\\theta(x)) = -log(1 - 0) = -log1 = 0$\n",
    "\n",
    "if $y^{(i)} = h_\\theta(x^{(i)} = 1$ we have a loss of $-log(h_\\theta(x)) = -log1 = 0$\n",
    "\n",
    "if $y^{(i)} = 0$ but $h_\\theta(x^{(i)} = 1$ we have a loss of $-log(1 - h_\\theta(x)) = -log(1 - 1) = -log 0 = \\infty$\n",
    "\n",
    "if $y^{(i)} = 1$ but $h_\\theta(x^{(i)}) = 1$ we have a loss of \n",
    "$-log(h_\\theta(x)) = -log 0 = \\infty$\n",
    "\n",
    "As the model moves closer to the wrong prediction, the loss gets progressively higher. Let’s look at the loss of the sigmoid function $\\sigma$ with respect to $z$ \n",
    " <img src=\"sigmoid_loss.png\">\n",
    " \n",
    "For $y = 0$, as $z$ approaches $\\infty$, $\\sigma (z)$ approaches $0$ so the loss approaches $1$ as well.\n",
    "\n",
    "For $y = 1$, as $z$ approaches $-\\infty$, $\\sigma (z)$ approaches $0$ so the loss approaches $0$ as well.\n",
    "\n",
    "Another way to understand this is that this loss function pushes the model to be very sure about its predictions. The model will always be penalized, even it if it predicts the correct class, except when it has 100% certainty. For example, let’s suppose the model is 51% sure ($h(x) = 0.51$) about an example belonging to class 1, thus predicting class 1, it will still have a loss of $-log 0.51 \\approx 0.67$.\n",
    "\n",
    "Because we know that $y^{(i)} \\in [0,1] $, there’s a shorter way of writing this function:\n",
    "\n",
    "$J(\\theta) = -\\frac{1}{m} \\left[\\sum_{i=1}^{m}{y^{(i)}logh_\\theta(x^{(i)}) + (1 - y^{(i)})log(1 - h_\\theta(x^{(i)})}\\right]$\n",
    "\n",
    "In python the cost function can be return as:"
   ]
  },
  {
   "cell_type": "code",
   "execution_count": 164,
   "metadata": {
    "executionInfo": {
     "elapsed": 4414,
     "status": "ok",
     "timestamp": 1602526062450,
     "user": {
      "displayName": "Aissatou Ndoye",
      "photoUrl": "https://lh3.googleusercontent.com/a-/AOh14Gjwcgqyi13N4EhUJtws9gc53KiQyuA1tBnfHv3H1g=s64",
      "userId": "14336879535012603883"
     },
     "user_tz": -120
    },
    "id": "gN4cXlaOBkPm"
   },
   "outputs": [],
   "source": [
    "def cost_function(pred, y):\n",
    "    m = len(y)\n",
    "    ##For numerical stability of the log operation\n",
    "    r1 = pred\n",
    "    r2 =  1.0 - pred\n",
    "\n",
    "    r1 = np.where(r1 > 0.0000000001, r1, -10)\n",
    "    r1 = np.log(r1, out=r1, where=r1 > 0)\n",
    "\n",
    "    r2 = np.where(r2 > 0.0000000001, r2, -10)\n",
    "    r2 = np.log(r2, out=r2, where=r2 > 0)\n",
    "    #################\n",
    "\n",
    "    return (1.0/m) * (-y @ r1 - (1.0 - y) @ r2)"
   ]
  },
  {
   "cell_type": "markdown",
   "metadata": {
    "id": "rXRIIIzsBkPp"
   },
   "source": [
    "Well, when we want to minimize our cost function using gradient descent we will need to compute the derivative of the loss function."
   ]
  },
  {
   "cell_type": "markdown",
   "metadata": {
    "id": "WI1Mtkq3BkPp"
   },
   "source": [
    "### Derivative\n",
    "We will use the derivative of the loss function to calculate a gradient descent step.\n",
    "\n",
    "The vectorized derivative for $J$ is given as:\n",
    "$\\nabla{J(X)} = \\frac {1}{m}X^{T}(X\\theta - y)$"
   ]
  },
  {
   "cell_type": "code",
   "execution_count": 162,
   "metadata": {
    "executionInfo": {
     "elapsed": 2909,
     "status": "ok",
     "timestamp": 1602525895493,
     "user": {
      "displayName": "Aissatou Ndoye",
      "photoUrl": "https://lh3.googleusercontent.com/a-/AOh14Gjwcgqyi13N4EhUJtws9gc53KiQyuA1tBnfHv3H1g=s64",
      "userId": "14336879535012603883"
     },
     "user_tz": -120
    },
    "id": "8GGG6BxOBkPp"
   },
   "outputs": [],
   "source": [
    "def compute_gradient(theta, X, y, pred):\n",
    "    m = X.shape[0]\n",
    "    gradient = (1.0 / m) * X.T @ (pred - y)\n",
    "    return gradient"
   ]
  },
  {
   "cell_type": "markdown",
   "metadata": {
    "id": "2aFFb3Gle2qc"
   },
   "source": [
    "## Update parameters\n",
    "The objective of logistic regression is to minimize the cost function\n",
    "$J(\\theta) = -\\frac{1}{m} \\left[\\sum_{i=1}^{m}{y^{(i)}logh_\\theta(x^{(i)}) + (1 - y^{(i)})log(1 - h_\\theta(x^{(i)})}\\right]$\n",
    "\n",
    "\n",
    "where the hypothesis is given by $h_\\theta(x) = \\sigma (\\theta^{T}x)$.\n",
    "\n",
    "The gradient of the cost is a vector of the same length as $\\theta$ where the $j^{th}$ element (for $j \\in (0,1, ..., n)$) is defined as follows: \n",
    "$\\frac{\\partial J(\\theta)}{\\partial \\theta_j} = \\sum_{i=1}^{m} (h_\\theta(x^i) - y^i)x_j^{(i)}$\n",
    "\n",
    "\n",
    "One way to update the parameters $\\theta_j$ is to use the gradient descent algorithm. In gradient descent, each iteration performs the update: $$ \\theta_j =   \\theta_j - \\alpha \\frac {\\partial J(\\theta)}{ \\partial \\theta_j}$$\n",
    "\n",
    "(simultaneously update $\\theta_j$ for all j), where $\\alpha$ is the learning rate.\n",
    "\n",
    "With each step of gradient descent, the parameters  come closer to the optimal values that will achieve the lowest cost $J(\\theta)$.\n"
   ]
  },
  {
   "cell_type": "markdown",
   "metadata": {
    "id": "07PiFnzpmMBd"
   },
   "source": [
    "# Training Algorithm"
   ]
  },
  {
   "cell_type": "markdown",
   "metadata": {
    "id": "qLunEvLHrRxI"
   },
   "source": [
    "During the training, we will need to measure the performance of the mode called Accuracy.\n",
    "The accuracy is the percentage of examples we correctly predicted the class for.\n",
    "\n",
    "Implementing this in Python is very easy if we count the number of instances we get correct and divide it by the total number of items. In mathematical terms, that’s equal to the average.\n",
    "\n",
    "preds = h(X, theta)\n",
    "((preds > 0.5) == y).mean()\n",
    "\n",
    "We will also keep track of the loss and accuracy during training."
   ]
  },
  {
   "cell_type": "code",
   "execution_count": 247,
   "metadata": {
    "executionInfo": {
     "elapsed": 3210,
     "status": "ok",
     "timestamp": 1602536832235,
     "user": {
      "displayName": "Aissatou Ndoye",
      "photoUrl": "https://lh3.googleusercontent.com/a-/AOh14Gjwcgqyi13N4EhUJtws9gc53KiQyuA1tBnfHv3H1g=s64",
      "userId": "14336879535012603883"
     },
     "user_tz": -120
    },
    "id": "glCKK7aEnV6O"
   },
   "outputs": [],
   "source": [
    "def Training(X, y, alpha, num_iters):\n",
    "    \n",
    "    \"Performs gradient descent, updates theta by taking num_iters gradient steps with learning rate alpha\"\n",
    "    '''\n",
    "    args:\n",
    "       X: features\n",
    "       y: target\n",
    "       alpha: learning rate\n",
    "       num_iters: Number of iterations\n",
    "       \n",
    "    return:\n",
    "            the parameter theta and a dictionnary containing the loss and accuracy'''\n",
    "    #Initialize some useful values\n",
    "    numb_samples = len(y) # number of training examples\n",
    "    n_features = X.shape[1] #number of features\n",
    "\n",
    "    history = {'loss':[], 'acc': []} #To accumulate the loss and accuracy\n",
    "    theta = rand(X.shape[1])\n",
    "    bias = 0\n",
    "\n",
    "    for i in range (num_iters):\n",
    "        pred = h(X, theta) #prediction\n",
    "        theta = theta - alpha * compute_gradient(theta, X, y, pred) #update\n",
    "\n",
    "        #loss\n",
    "        loss = cost_function(pred, y)\n",
    "        history['loss'].append(loss)\n",
    "\n",
    "        #accuracy\n",
    "        acc = ((pred > 0.5) == y).mean()\n",
    "        history['acc'].append(acc)\n",
    "\n",
    "        #print stats\n",
    "        if i % 5 == 0:\n",
    "            print('Loss: {}, Accuracy: {}'.format(loss, acc))\n",
    "\n",
    "\n",
    "        \n",
    "    return history, theta\n",
    "    "
   ]
  },
  {
   "cell_type": "code",
   "execution_count": 106,
   "metadata": {
    "executionInfo": {
     "elapsed": 461,
     "status": "ok",
     "timestamp": 1602524012047,
     "user": {
      "displayName": "Aissatou Ndoye",
      "photoUrl": "https://lh3.googleusercontent.com/a-/AOh14Gjwcgqyi13N4EhUJtws9gc53KiQyuA1tBnfHv3H1g=s64",
      "userId": "14336879535012603883"
     },
     "user_tz": -120
    },
    "id": "rpS-T0stuPlI"
   },
   "outputs": [],
   "source": []
  },
  {
   "cell_type": "markdown",
   "metadata": {
    "id": "WjSE61l4r7l7"
   },
   "source": [
    "## Logistic Regression on a small score exam dataset"
   ]
  },
  {
   "cell_type": "markdown",
   "metadata": {
    "id": "7ugOFcRMplGd"
   },
   "source": [
    "# Data"
   ]
  },
  {
   "cell_type": "markdown",
   "metadata": {
    "id": "-f4hI5FRcbbZ"
   },
   "source": [
    "In this tutorial, we will build a model to predict whether a student gets admitted into a university. Suppose that you are the administrator of a university department and you want to determine each applicant's chance of admission based on their results on two exams. You have historical data from previous applicants that you can use as a training set for logistic regression. For each training example, you have the applicant's scores on two exams and the admissions decision.\n",
    "   "
   ]
  },
  {
   "cell_type": "code",
   "execution_count": 107,
   "metadata": {
    "executionInfo": {
     "elapsed": 1197,
     "status": "ok",
     "timestamp": 1602524014653,
     "user": {
      "displayName": "Aissatou Ndoye",
      "photoUrl": "https://lh3.googleusercontent.com/a-/AOh14Gjwcgqyi13N4EhUJtws9gc53KiQyuA1tBnfHv3H1g=s64",
      "userId": "14336879535012603883"
     },
     "user_tz": -120
    },
    "id": "ETaJIZ_0BkPt"
   },
   "outputs": [],
   "source": [
    "import pandas as pd\n",
    "import matplotlib.pyplot as plt\n",
    "import seaborn as sns"
   ]
  },
  {
   "cell_type": "code",
   "execution_count": 108,
   "metadata": {
    "colab": {
     "base_uri": "https://localhost:8080/",
     "height": 195
    },
    "executionInfo": {
     "elapsed": 416,
     "status": "ok",
     "timestamp": 1602524014936,
     "user": {
      "displayName": "Aissatou Ndoye",
      "photoUrl": "https://lh3.googleusercontent.com/a-/AOh14Gjwcgqyi13N4EhUJtws9gc53KiQyuA1tBnfHv3H1g=s64",
      "userId": "14336879535012603883"
     },
     "user_tz": -120
    },
    "id": "Vg97v1AgCWsG",
    "outputId": "5f85cd1f-c4e2-47ca-ba56-2816c969f03b"
   },
   "outputs": [
    {
     "data": {
      "text/html": [
       "<div>\n",
       "<style scoped>\n",
       "    .dataframe tbody tr th:only-of-type {\n",
       "        vertical-align: middle;\n",
       "    }\n",
       "\n",
       "    .dataframe tbody tr th {\n",
       "        vertical-align: top;\n",
       "    }\n",
       "\n",
       "    .dataframe thead th {\n",
       "        text-align: right;\n",
       "    }\n",
       "</style>\n",
       "<table border=\"1\" class=\"dataframe\">\n",
       "  <thead>\n",
       "    <tr style=\"text-align: right;\">\n",
       "      <th></th>\n",
       "      <th>score1</th>\n",
       "      <th>score2</th>\n",
       "      <th>admitted</th>\n",
       "    </tr>\n",
       "  </thead>\n",
       "  <tbody>\n",
       "    <tr>\n",
       "      <th>0</th>\n",
       "      <td>34.623660</td>\n",
       "      <td>78.024693</td>\n",
       "      <td>0</td>\n",
       "    </tr>\n",
       "    <tr>\n",
       "      <th>1</th>\n",
       "      <td>30.286711</td>\n",
       "      <td>43.894998</td>\n",
       "      <td>0</td>\n",
       "    </tr>\n",
       "    <tr>\n",
       "      <th>2</th>\n",
       "      <td>35.847409</td>\n",
       "      <td>72.902198</td>\n",
       "      <td>0</td>\n",
       "    </tr>\n",
       "    <tr>\n",
       "      <th>3</th>\n",
       "      <td>60.182599</td>\n",
       "      <td>86.308552</td>\n",
       "      <td>1</td>\n",
       "    </tr>\n",
       "    <tr>\n",
       "      <th>4</th>\n",
       "      <td>79.032736</td>\n",
       "      <td>75.344376</td>\n",
       "      <td>1</td>\n",
       "    </tr>\n",
       "  </tbody>\n",
       "</table>\n",
       "</div>"
      ],
      "text/plain": [
       "      score1     score2  admitted\n",
       "0  34.623660  78.024693         0\n",
       "1  30.286711  43.894998         0\n",
       "2  35.847409  72.902198         0\n",
       "3  60.182599  86.308552         1\n",
       "4  79.032736  75.344376         1"
      ]
     },
     "execution_count": 108,
     "metadata": {
      "tags": []
     },
     "output_type": "execute_result"
    }
   ],
   "source": [
    "train_df = pd.read_csv('/content/drive/My Drive/GestuAI/GUestu/ex2data1.csv', sep=',')\n",
    "train_df.head(5)"
   ]
  },
  {
   "cell_type": "code",
   "execution_count": 108,
   "metadata": {
    "executionInfo": {
     "elapsed": 507,
     "status": "ok",
     "timestamp": 1602524015963,
     "user": {
      "displayName": "Aissatou Ndoye",
      "photoUrl": "https://lh3.googleusercontent.com/a-/AOh14Gjwcgqyi13N4EhUJtws9gc53KiQyuA1tBnfHv3H1g=s64",
      "userId": "14336879535012603883"
     },
     "user_tz": -120
    },
    "id": "2Eg6Qo86CWpT"
   },
   "outputs": [],
   "source": []
  },
  {
   "cell_type": "markdown",
   "metadata": {
    "id": "XWcBR1rdCaek"
   },
   "source": [
    "## Visualization\n",
    "Before starting the learning algorithm, let's visualize the data. The code below will display it on a 2-dimensional"
   ]
  },
  {
   "cell_type": "code",
   "execution_count": null,
   "metadata": {
    "id": "j9_y4kRzCx2_"
   },
   "outputs": [],
   "source": []
  },
  {
   "cell_type": "code",
   "execution_count": 230,
   "metadata": {
    "colab": {
     "base_uri": "https://localhost:8080/",
     "height": 318
    },
    "executionInfo": {
     "elapsed": 2389,
     "status": "ok",
     "timestamp": 1602529084464,
     "user": {
      "displayName": "Aissatou Ndoye",
      "photoUrl": "https://lh3.googleusercontent.com/a-/AOh14Gjwcgqyi13N4EhUJtws9gc53KiQyuA1tBnfHv3H1g=s64",
      "userId": "14336879535012603883"
     },
     "user_tz": -120
    },
    "id": "g2AXPq4ZCcuY",
    "outputId": "7d02dd41-8ef1-456d-9780-61e5ff475c89"
   },
   "outputs": [
    {
     "data": {
      "text/plain": [
       "Text(0.5, 1.0, 'Scatter plot of training data')"
      ]
     },
     "execution_count": 230,
     "metadata": {
      "tags": []
     },
     "output_type": "execute_result"
    },
    {
     "data": {
      "image/png": "[encoded data removed]",
      "text/plain": [
       "<Figure size 432x288 with 1 Axes>"
      ]
     },
     "metadata": {
      "tags": []
     },
     "output_type": "display_data"
    }
   ],
   "source": [
    "sns.set()\n",
    "ax = sns.scatterplot(x='score1', y='score2', data=train_df, hue=\"admitted\")\n",
    "ax.set_title('Scatter plot of training data')\n"
   ]
  },
  {
   "cell_type": "code",
   "execution_count": 235,
   "metadata": {
    "executionInfo": {
     "elapsed": 4194,
     "status": "ok",
     "timestamp": 1602529363071,
     "user": {
      "displayName": "Aissatou Ndoye",
      "photoUrl": "https://lh3.googleusercontent.com/a-/AOh14Gjwcgqyi13N4EhUJtws9gc53KiQyuA1tBnfHv3H1g=s64",
      "userId": "14336879535012603883"
     },
     "user_tz": -120
    },
    "id": "UgyynYXJuX8k"
   },
   "outputs": [],
   "source": [
    "#Extract X and y \n",
    "y = train_df['admitted'].values\n",
    "X = train_df.drop(columns = ['admitted']).values"
   ]
  },
  {
   "cell_type": "code",
   "execution_count": 248,
   "metadata": {
    "colab": {
     "base_uri": "https://localhost:8080/",
     "height": 353
    },
    "executionInfo": {
     "elapsed": 1880,
     "status": "ok",
     "timestamp": 1602536838647,
     "user": {
      "displayName": "Aissatou Ndoye",
      "photoUrl": "https://lh3.googleusercontent.com/a-/AOh14Gjwcgqyi13N4EhUJtws9gc53KiQyuA1tBnfHv3H1g=s64",
      "userId": "14336879535012603883"
     },
     "user_tz": -120
    },
    "id": "gp5fZpagv_7u",
    "outputId": "4b63bb0e-0770-4716-96dd-5aee04e0fe03"
   },
   "outputs": [
    {
     "name": "stdout",
     "output_type": "stream",
     "text": [
      "Loss: 4.0, Accuracy: 0.6\n",
      "Loss: 4.0, Accuracy: 0.6\n",
      "Loss: 4.0, Accuracy: 0.6\n",
      "Loss: 4.966918846401042, Accuracy: 0.6\n",
      "Loss: 5.442039202881698, Accuracy: 0.6\n",
      "Loss: 1.5596298767838412, Accuracy: 0.64\n",
      "Loss: 1.1283773782176507, Accuracy: 0.63\n",
      "Loss: 0.997064928246985, Accuracy: 0.63\n",
      "Loss: 0.8829529696442795, Accuracy: 0.63\n",
      "Loss: 0.7905852543557775, Accuracy: 0.64\n",
      "Loss: 0.722933953570381, Accuracy: 0.64\n",
      "Loss: 0.6791155971829718, Accuracy: 0.65\n",
      "Loss: 0.6540696737759869, Accuracy: 0.66\n",
      "Loss: 0.64115799751315, Accuracy: 0.63\n",
      "Loss: 0.6349576556871582, Accuracy: 0.62\n",
      "Loss: 0.6321054400937939, Accuracy: 0.6\n",
      "Loss: 0.6308250665029049, Accuracy: 0.6\n",
      "Loss: 0.6302581070218011, Accuracy: 0.6\n",
      "Loss: 0.6300089908091698, Accuracy: 0.6\n",
      "Loss: 0.6299000234644934, Accuracy: 0.6\n"
     ]
    }
   ],
   "source": [
    "#Perform the training\n",
    "hist, acc = Training(X, y, 0.001, 100)"
   ]
  },
  {
   "cell_type": "code",
   "execution_count": 249,
   "metadata": {
    "colab": {
     "base_uri": "https://localhost:8080/",
     "height": 285
    },
    "executionInfo": {
     "elapsed": 2126,
     "status": "ok",
     "timestamp": 1602536848199,
     "user": {
      "displayName": "Aissatou Ndoye",
      "photoUrl": "https://lh3.googleusercontent.com/a-/AOh14Gjwcgqyi13N4EhUJtws9gc53KiQyuA1tBnfHv3H1g=s64",
      "userId": "14336879535012603883"
     },
     "user_tz": -120
    },
    "id": "jje5r8RRw9wV",
    "outputId": "93505e8e-c0f0-4f31-91bb-b74294eb6897"
   },
   "outputs": [
    {
     "data": {
      "text/plain": [
       "[<matplotlib.lines.Line2D at 0x7fcd10c12d68>]"
      ]
     },
     "execution_count": 249,
     "metadata": {
      "tags": []
     },
     "output_type": "execute_result"
    },
    {
     "data": {
      "image/png": "[encoded data removed]",
      "text/plain": [
       "<Figure size 432x288 with 1 Axes>"
      ]
     },
     "metadata": {
      "tags": []
     },
     "output_type": "display_data"
    }
   ],
   "source": [
    "plt.plot(hist['loss'])"
   ]
  }
 ],
 "metadata": {
  "colab": {
   "collapsed_sections": [],
   "name": "GestuAI.ipynb",
   "provenance": []
  },
  "kernelspec": {
   "display_name": "Python 3",
   "language": "python",
   "name": "python3"
  },
  "language_info": {
   "codemirror_mode": {
    "name": "ipython",
    "version": 3
   },
   "file_extension": ".py",
   "mimetype": "text/x-python",
   "name": "python",
   "nbconvert_exporter": "python",
   "pygments_lexer": "ipython3",
   "version": "3.7.3"
  }
 },
 "nbformat": 4,
 "nbformat_minor": 1
}
