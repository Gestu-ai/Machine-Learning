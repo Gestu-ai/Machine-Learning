{
 "cells": [
  {
   "cell_type": "markdown",
   "metadata": {
    "colab_type": "text",
    "id": "uIZHFfA0cStM"
   },
   "source": [
    "<a href=\"https://colab.research.google.com/github/Gestu-ai/Machine-Learning/blob/master/Logistic_Regression/Example_of__model_we_need.ipynb\" target=\"_parent\"><img src=\"https://colab.research.google.com/assets/colab-badge.svg\" alt=\"Open In Colab\"/></a>"
   ]
  },
  {
   "cell_type": "markdown",
   "metadata": {
    "colab_type": "text",
    "id": "Q1WnrEJHcTyz"
   },
   "source": [
    "<img src=\"https://raw.githubusercontent.com/Gestu-ai/Machine-Learning/master/images-master/gestu1.png?token=AIW35UAKBBELC5SYDUECSYC7HQ4FW\" width=\"200\">"
   ]
  },
  {
   "cell_type": "markdown",
   "metadata": {
    "colab_type": "text",
    "id": "vx9rHF2gcStN"
   },
   "source": [
    "# Logistic Regression"
   ]
  },
  {
   "cell_type": "markdown",
   "metadata": {
    "colab_type": "text",
    "id": "_5paLW1qcStO"
   },
   "source": [
    "* # [Part I - Description](#part1)\n",
    "\n",
    "* # [Part II - Algorithm](#part2)\n",
    "    1. [Hypothesis](#part2)\n",
    "    2. [Cost function](#part2)\n",
    "    3. [Updating parameters process](#interactive-plot)\n",
    "* # [Part III - Implementation](#part3)\n"
   ]
  },
  {
   "cell_type": "markdown",
   "metadata": {
    "colab_type": "text",
    "id": "1CHnM9CncStP"
   },
   "source": [
    "***\n",
    "## Part I - Description  <a name=\"part1\"></a>"
   ]
  },
  {
   "cell_type": "markdown",
   "metadata": {
    "colab_type": "text",
    "id": "4K0hLor_cStQ"
   },
   "source": [
    "* Logistic regression is one of the most popular Machine Learning algorithms, which comes under the Supervised Learning technique. It is used for predicting the categorical dependent variable using a given set of independent variables.\n",
    "\n",
    "* Logistic regression predicts the output of a categorical dependent variable. Therefore the outcome must be a categorical or discrete value. It can be either Yes or No, 0 or 1, true or False, etc. but instead of giving the exact value as 0 and 1, it gives the probabilistic values which lie between 0 and 1.\n",
    "\n",
    "* Logistic Regression is much similar to the Linear Regression except that how they are used. Linear Regression is used for solving Regression problems, whereas Logistic regression is used for solving the classification problems.\n",
    "* In Logistic regression, instead of fitting a regression line, we fit an \"S\" shaped logistic function, which predicts two maximum values (0 or 1).\n",
    "The curve from the logistic function indicates the likelihood of something such as whether the cells are cancerous or not, a mouse is obese or not based on its weight, etc.\n",
    "* Logistic Regression is a significant machine learning algorithm because it has the ability to provide probabilities and classify new data using continuous and discrete datasets.\n",
    "* Logistic Regression can be used to classify the observations using different types of data and can easily determine the most effective variables used for the classification. The below image is showing the logistic function:"
   ]
  },
  {
   "cell_type": "markdown",
   "metadata": {
    "colab_type": "text",
    "id": "gawVSl3ocStR"
   },
   "source": [
    "***\n",
    "## Part II - Algorithm  <a name=\"part1\"></a>"
   ]
  },
  {
   "cell_type": "markdown",
   "metadata": {
    "colab_type": "text",
    "id": "dUw_0Dh1cStR"
   },
   "source": [
    "### 1. Hypothesis"
   ]
  },
  {
   "cell_type": "markdown",
   "metadata": {
    "colab_type": "text",
    "id": "OuQRpB56cStS"
   },
   "source": [
    "**The hypothesis of logistic regression is defined by** $\\sigma(x w+b) =\\frac{1}{1 + e^{-(xw+b)}}$.\n",
    "\n",
    "The function $\\sigma(x) = \\frac{1}{1 + e^{-x}}$ which is called logistic function or sigmoid function.\n",
    "\n",
    "For the following steps we use the notation $z = x w+b$, $\\hat{y}=\\sigma(z)$."
   ]
  },
  {
   "cell_type": "markdown",
   "metadata": {
    "colab_type": "text",
    "id": "d6lfdz-ELNGU"
   },
   "source": [
    "#####bold text The code for hypothesis"
   ]
  },
  {
   "cell_type": "code",
   "execution_count": 1,
   "metadata": {
    "colab": {},
    "colab_type": "code",
    "id": "tlZIJwoKKWDC"
   },
   "outputs": [],
   "source": [
    "def sigmoid(self , z):\n",
    "  \n",
    "  self.sigmo= 1/(1+np.exp(-z))\n",
    "  \n",
    "  return self.sigmo"
   ]
  },
  {
   "cell_type": "markdown",
   "metadata": {
    "colab_type": "text",
    "id": "LuU5F5NVcStT"
   },
   "source": [
    "### 2. Cost function"
   ]
  },
  {
   "cell_type": "markdown",
   "metadata": {
    "colab_type": "text",
    "id": "GPDxOmfccStU"
   },
   "source": [
    "In this we are going to use MLE(Maximum Likelihood Eestimation) to define the cost function of logistic regression model. "
   ]
  },
  {
   "cell_type": "markdown",
   "metadata": {
    "colab_type": "text",
    "id": "1xeFrcizcStX"
   },
   "source": [
    "Consequently, by using Bernoulli distribution we can write \n",
    "\n",
    "$$% \\begin{center}\n",
    "\\\\\n",
    "\\begin{align*} \n",
    "P(Y=y)&=\\hat{y}^{y}(1-\\hat{y}^{1-y})\\\\\n",
    "&=\\sigma(xw+b)^{y}(1-\\sigma(xw+b)^{1-y})\n",
    "\\end{align*}\n",
    "%\\end{center}\n",
    "$$"
   ]
  },
  {
   "cell_type": "markdown",
   "metadata": {
    "colab_type": "text",
    "id": "v1dLAy0ZcStY"
   },
   "source": [
    "And now considering all the data set we can write the likelihood by:\n",
    "    \n",
    "$$\n",
    "\\begin{align*}\n",
    "l(w,b)& =\\prod_{i=1}^{n}P(Y=y^{(i)} | X=x^{(i)})\\\\\n",
    "&=\\prod_{i=1}^{n}\\sigma(x^{(i)} w + b)^{y^{(i)}}+(1-\\sigma(x^{(i)} w+b))^{1-y^{(i)}}\n",
    "\\end{align*}\n",
    "$$"
   ]
  },
  {
   "cell_type": "markdown",
   "metadata": {
    "colab_type": "text",
    "id": "m7qKEnrZcStZ"
   },
   "source": [
    "As we know that the logarithm function is monotonic, the parameter which maximise the likelihood is the same parameter which maximize the logarithm of the likelihood.\n",
    "\n",
    "$$ log(l(w, b))=\\sum_{i=1}^{n}y^{(i)}log\\sigma(x^{(i)} w+b) + (1-y^{(i)})\\log(1-\\sigma(x^{(i)} w+b))$$\n",
    "\n",
    "Our objective is to find the parameter which maximize the term $log(l(w,b))$ but we nkow also that the procedure of maximization of a function $f$ can reformulate as a procedure of minimization of $-f$.\n",
    "\n",
    "$ argmax_{w,b} \\sum_{i=1}^{n}y^{(i)}log\\sigma(x^{(i)} w+b) + (1-y^{(i)})\\log(1-\\sigma(x^{(i)} w+b))  = argmin_{w,b} [ - \\sum_{i=1}^{n}y^{(i)}log\\sigma(x^{(i)} w+b) + (1-y^{(i)})\\log(1-\\sigma(x^{(i)} w+b))]$.\n",
    "\n",
    "As our objective becomes now to minimize the function $- \\sum_{i=1}^{n}y^{(i)}log\\sigma(x^{(i)} w+b) + (1-y^{(i)})\\log(1-\\sigma(x^{(i)} w+b))$. \n",
    "\n",
    "\n",
    "Finally the cost function of logistic regression is given by: \n",
    "$\\begin{align*}\n",
    "L(w,b)=- log(l(w,b))&=-\\sum_{i=1}^{n}y^{(i)}log\\sigma(x^{(i)}w+b) + (1-y^{(i)})\\log(1-\\sigma(x^{(i)}w+b))\\\\\n",
    "&=-\\sum_{i=1}^{n}y^{(i)}log(\\hat{y}^{i}) + (1-y^{(i)})\\log(1-\\hat{y}^{i})\n",
    "\\end{align*}\n",
    "$ \n",
    "\n",
    "$L(w,b)$  is called **negative log likelihood**"
   ]
  },
  {
   "cell_type": "markdown",
   "metadata": {
    "colab_type": "text",
    "id": "1uYyNM4BLgMd"
   },
   "source": [
    "##### The code for the cost function"
   ]
  },
  {
   "cell_type": "code",
   "execution_count": 2,
   "metadata": {
    "colab": {},
    "colab_type": "code",
    "id": "GRwqpI3TLtwC"
   },
   "outputs": [],
   "source": [
    "def cost_function (self, x, y, y_true):\n",
    "  \n",
    "  self.cost = -(1/ x.shape[0]) * np.sum(y_true * np.log(y) + (1-y_true) * np.log(1- y))\n",
    "    \n",
    "  return self.cost"
   ]
  },
  {
   "cell_type": "markdown",
   "metadata": {
    "colab_type": "text",
    "id": "H8OIWSOHcSta"
   },
   "source": [
    "### 3. Updating parameters "
   ]
  },
  {
   "cell_type": "markdown",
   "metadata": {
    "colab_type": "text",
    "id": "UuPIfoalcSta"
   },
   "source": [
    "To update the parameter $w$(respectively $b$) which is a vector, we are going to simplify it by updating component by component. So, to update $w_j$ (respectively $b$), we start by computing the gradient of $L$ with respect to $w_j$ (respectively $b$):\n",
    "\n",
    "$$\n",
    "\\begin{align*}\n",
    "\\frac{\\partial}{\\partial w_{j}}L(w,b) & = \\frac{\\partial}{\\partial \\hat{y}^{i}}L(w,b)*\\frac{\\partial}{\\partial w_{j}}\\hat{y}^{i}\\\\\n",
    "&=-\\frac{y}{\\hat{y}^{i}}+\\frac{(1-y)}{(1-\\hat{y}^{i})}\\\\\n",
    "&= \\frac{\\hat{y}^{i}-y}{\\hat{y}^{i}(1-\\hat{y}^{i})}\\\\\n",
    "\\end{align*}\n",
    "\\\\\n",
    "\\frac{\\partial}{\\partial w_{j}}\\hat{y}^{i} = \\hat{y}^{i}(1-\\hat{y}^{i})*x_{j}^{i}\n",
    "$$\n",
    "\n",
    "consequently $$\\frac{\\partial}{\\partial w_{j}}L(w,b)= (\\hat{y}^{i}-y)x_{j}^{i}$$\n",
    "\n",
    "And $$\\frac{\\partial}{\\partial w}L(w,b)=\\frac{1}{n}\\sum_{i=1}^{n}(\\hat{y}^{i}-y)x_{j}^{i}$$\n",
    "\n",
    "By analogy, the derivative of $L(w,b)$ with respect to $b$ is given by:\n",
    "\n",
    "$$\\frac{\\partial}{\\partial b}L(w,b)=\\frac{1}{n}\\sum_{i=1}^{n}(\\hat{y}^{i}-y)$$\n",
    "\n",
    "To update the parameters $w$ and $b$ by considering a learning rate $\\lambda$, for each iteration, we do the following instruction: $$\\begin{align*} w_{current} &= w_{previous} - \\lambda * \\frac{\\partial}{\\partial w}L(w,b) \\\\\n",
    "b_{current} &= b_{previous} - \\lambda * \\frac{\\partial}{\\partial b}L(w,b)\n",
    "\\end{align*}$$"
   ]
  },
  {
   "cell_type": "markdown",
   "metadata": {
    "colab_type": "text",
    "id": "XnFHT5o9MYYu"
   },
   "source": [
    "##### The code for updating the parameters"
   ]
  },
  {
   "cell_type": "code",
   "execution_count": null,
   "metadata": {
    "colab": {},
    "colab_type": "code",
    "id": "Vzkir_K-L974"
   },
   "outputs": [],
   "source": [
    "def learning_algorithm(x, y_true, learning_rate, n_iteration) :\n",
    "  m_samples, n_features = x.shape\n",
    "  theta = np.zeros((n_features , 1))\n",
    "  bias = 0\n",
    "  cost_final= np.zeros(n_iteration)\n",
    "  \n",
    "  for i in range(n_iteration):\n",
    "    y_hat = sigmoid(np.dot(x, theta) + bias)\n",
    "\n",
    "    cost = cost_function(x, y_hat, y_true)\n",
    "    \n",
    "    d_theta = (1 / m_samples) * np.dot(x.T, (y_hat - y_true))\n",
    "    d_bias = (1 / m_samples) * np.sum(y_hat - y_true)\n",
    "\n",
    "    theta = theta - learning_rate * d_theta \n",
    "    bias = bias - learning_rate * d_bias\n",
    "\n",
    "    cost_final[i] = cost\n",
    "        \n",
    "        \n",
    "  return theta, bias, cost_final"
   ]
  },
  {
   "cell_type": "markdown",
   "metadata": {
    "colab_type": "text",
    "id": "gA8ihADoMiaS"
   },
   "source": [
    "## The learning algorithm of logistic regression model into an Iris dataset"
   ]
  },
  {
   "cell_type": "code",
   "execution_count": 3,
   "metadata": {
    "colab": {
     "base_uri": "https://localhost:8080/",
     "height": 51
    },
    "colab_type": "code",
    "id": "s0zVZ1QZcStb",
    "outputId": "1510c240-d7b9-4bd8-b0c8-37c845faf2f4"
   },
   "outputs": [
    {
     "name": "stderr",
     "output_type": "stream",
     "text": [
      "/usr/local/lib/python3.6/dist-packages/statsmodels/tools/_testing.py:19: FutureWarning: pandas.util.testing is deprecated. Use the functions in the public API at pandas.testing instead.\n",
      "  import pandas.util.testing as tm\n"
     ]
    }
   ],
   "source": [
    "import pandas as pd\n",
    "import numpy as np\n",
    "import seaborn as sn\n",
    "import random as rd\n",
    "import matplotlib.pyplot as plt\n",
    "from numpy.linalg import norm"
   ]
  },
  {
   "cell_type": "code",
   "execution_count": 5,
   "metadata": {
    "colab": {},
    "colab_type": "code",
    "id": "CCsxNY0OcStg"
   },
   "outputs": [],
   "source": [
    "X = pd.read_csv('X_train.csv')\n",
    "X.head()"
   ]
  },
  {
   "cell_type": "code",
   "execution_count": null,
   "metadata": {
    "colab": {},
    "colab_type": "code",
    "id": "MlVYnW97cStk",
    "outputId": "d64f8934-f7d7-4178-d5f5-828edbbe51f0"
   },
   "outputs": [
    {
     "data": {
      "text/html": [
       "<div>\n",
       "<style scoped>\n",
       "    .dataframe tbody tr th:only-of-type {\n",
       "        vertical-align: middle;\n",
       "    }\n",
       "\n",
       "    .dataframe tbody tr th {\n",
       "        vertical-align: top;\n",
       "    }\n",
       "\n",
       "    .dataframe thead th {\n",
       "        text-align: right;\n",
       "    }\n",
       "</style>\n",
       "<table border=\"1\" class=\"dataframe\">\n",
       "  <thead>\n",
       "    <tr style=\"text-align: right;\">\n",
       "      <th></th>\n",
       "      <th>y</th>\n",
       "    </tr>\n",
       "  </thead>\n",
       "  <tbody>\n",
       "    <tr>\n",
       "      <th>0</th>\n",
       "      <td>1</td>\n",
       "    </tr>\n",
       "    <tr>\n",
       "      <th>1</th>\n",
       "      <td>1</td>\n",
       "    </tr>\n",
       "    <tr>\n",
       "      <th>2</th>\n",
       "      <td>1</td>\n",
       "    </tr>\n",
       "    <tr>\n",
       "      <th>3</th>\n",
       "      <td>1</td>\n",
       "    </tr>\n",
       "    <tr>\n",
       "      <th>4</th>\n",
       "      <td>0</td>\n",
       "    </tr>\n",
       "  </tbody>\n",
       "</table>\n",
       "</div>"
      ],
      "text/plain": [
       "   y\n",
       "0  1\n",
       "1  1\n",
       "2  1\n",
       "3  1\n",
       "4  0"
      ]
     },
     "execution_count": 5,
     "metadata": {
      "tags": []
     },
     "output_type": "execute_result"
    }
   ],
   "source": [
    "y = pd.read_csv('y_train.csv')\n",
    "y.head()"
   ]
  },
  {
   "cell_type": "markdown",
   "metadata": {
    "colab_type": "text",
    "id": "Dkva-DDfcStp"
   },
   "source": [
    "## here, we convert the target data frame to an array"
   ]
  },
  {
   "cell_type": "code",
   "execution_count": null,
   "metadata": {
    "colab": {},
    "colab_type": "code",
    "id": "FPakc-x5cStq"
   },
   "outputs": [],
   "source": [
    "X=X.values\n",
    "y=y.values"
   ]
  },
  {
   "cell_type": "code",
   "execution_count": null,
   "metadata": {
    "colab": {},
    "colab_type": "code",
    "id": "0Py22az_cStu"
   },
   "outputs": [],
   "source": [
    "from sklearn.model_selection import train_test_split"
   ]
  },
  {
   "cell_type": "code",
   "execution_count": null,
   "metadata": {
    "colab": {},
    "colab_type": "code",
    "id": "ySd8IBxLcStx",
    "outputId": "03559917-4fd9-495e-8581-19f19191d9fa"
   },
   "outputs": [
    {
     "name": "stdout",
     "output_type": "stream",
     "text": [
      "(660, 6)\n",
      "(166, 6)\n"
     ]
    }
   ],
   "source": [
    "X_train, X_test, y_train, y_test = train_test_split(X, y,test_size=0.2, random_state=42)\n",
    "\n",
    "print(X_train.shape)\n",
    "print(X_test.shape)"
   ]
  },
  {
   "cell_type": "code",
   "execution_count": null,
   "metadata": {
    "colab": {},
    "colab_type": "code",
    "id": "FW_IqHjMcSt2"
   },
   "outputs": [],
   "source": [
    "class LogisticRegression ():\n",
    "    \n",
    "    def __init__(self) :\n",
    "        \n",
    "        pass\n",
    "    \n",
    "    def sigmoid(self , z):\n",
    "        \n",
    "        self.sigmo= 1/(1+np.exp(-z))\n",
    "        \n",
    "        return self.sigmo\n",
    "    \n",
    "    def cost_function (self, x, y, y_true):\n",
    "       \n",
    "\n",
    "        self.cost = -(1/ x.shape[0]) * np.sum(y_true * np.log(y) + (1-y_true) * np.log(1- y))\n",
    "        \n",
    "        return self.cost\n",
    "    \n",
    "    def learning_algorithm(self, x, y_true, learning_rate, n_iteration) :\n",
    "        \n",
    "        m_samples, n_features = x.shape\n",
    "        self.theta = np.zeros((n_features , 1))\n",
    "        self.bias = 0\n",
    "        cost_final= np.zeros(n_iteration)\n",
    "        \n",
    "        for i in range(n_iteration):\n",
    "            \n",
    "            y_hat = self.sigmoid(np.dot(x, self.theta) + self.bias)\n",
    "\n",
    "            cost = self.cost_function(x, y_hat, y_true)\n",
    "            \n",
    "            d_theta = (1 / m_samples) * np.dot(x.T, (y_hat - y_true))\n",
    "            d_bias = (1 / m_samples) * np.sum(y_hat - y_true)\n",
    "\n",
    "            self.theta = self.theta - learning_rate * d_theta \n",
    "            self.bias = self.bias - learning_rate * d_bias\n",
    "        \n",
    "            cost_final[i] = cost\n",
    "            \n",
    "            \n",
    "        return self.theta, self.bias, cost_final\n",
    "        \n",
    "        \n",
    "    def prediction (self, X):\n",
    "        \n",
    "        y_hat = self.sigmoid ( np.dot(X, self.theta) + self.bias)\n",
    "        \n",
    "        y_predict_labels = [1 if elem > 0.5 else 0 for elem in y_hat]\n",
    "        \n",
    "        \n",
    "        return y_predict_labels"
   ]
  },
  {
   "cell_type": "code",
   "execution_count": null,
   "metadata": {
    "colab": {},
    "colab_type": "code",
    "id": "AMe5UlXKcSt6"
   },
   "outputs": [],
   "source": [
    "logistic_reg = LogisticRegression()"
   ]
  },
  {
   "cell_type": "markdown",
   "metadata": {
    "colab_type": "text",
    "id": "H4OgQ1mNcSt9"
   },
   "source": [
    "### Here we wanna show what the curve looks like"
   ]
  },
  {
   "cell_type": "code",
   "execution_count": null,
   "metadata": {
    "colab": {},
    "colab_type": "code",
    "id": "E731ips8cSt-",
    "outputId": "a2292620-0dbf-4590-c862-b3a124d82d1d"
   },
   "outputs": [
    {
     "data": {
      "image/png": "[encoded data removed]",
      "text/plain": [
       "<Figure size 576x432 with 1 Axes>"
      ]
     },
     "metadata": {
      "needs_background": "light",
      "tags": []
     },
     "output_type": "display_data"
    }
   ],
   "source": [
    "logistic_reg = LogisticRegression()\n",
    "theta, bias, costs = logistic_reg.learning_algorithm(X_train, y_train, learning_rate=0.1, n_iteration=1000)\n",
    "\n",
    "fig = plt.figure(figsize=(8,6))\n",
    "plt.plot(np.arange (1000), costs)\n",
    "plt.title(\"Development of cost over training\")\n",
    "plt.xlabel(\"Number of iterations\")\n",
    "plt.ylabel(\"Cost\")\n",
    "plt.show()"
   ]
  },
  {
   "cell_type": "markdown",
   "metadata": {
    "colab_type": "text",
    "id": "vD3zV2uzcSuB"
   },
   "source": [
    "### We can check that this curve is decreasing but it is stationnary somewhere when the number of iteration becomes very large. That's the convergence of the cost function.."
   ]
  },
  {
   "cell_type": "code",
   "execution_count": null,
   "metadata": {
    "colab": {},
    "colab_type": "code",
    "id": "RzIctj4ncSuC"
   },
   "outputs": [],
   "source": [
    "gr_descent=logistic_reg.learning_algorithm(X_train, y_train, learning_rate=0.1, n_iteration=1000)"
   ]
  },
  {
   "cell_type": "code",
   "execution_count": null,
   "metadata": {
    "colab": {},
    "colab_type": "code",
    "id": "9nviCqqGcSuG"
   },
   "outputs": [],
   "source": [
    "def checking_accuracy(y_predicted, y):\n",
    "    accuracy=0\n",
    "    for i in range(len(y_predicted)):\n",
    "        if y_predicted[i]==y[i]:\n",
    "            accuracy+= 1\n",
    "\n",
    "    accuracy/= len(y_predicted)\n",
    "    \n",
    "    return accuracy\n",
    "#     print('the accuracy on the training set is {} %'.format(np.round(accuracy_train*100, 2)))"
   ]
  },
  {
   "cell_type": "markdown",
   "metadata": {
    "colab_type": "text",
    "id": "6Dv5xEVycSuJ"
   },
   "source": [
    "### Accuracy on the training set"
   ]
  },
  {
   "cell_type": "code",
   "execution_count": null,
   "metadata": {
    "colab": {},
    "colab_type": "code",
    "id": "LLChd5mRcSuK",
    "outputId": "894f44c0-be5f-4139-9d17-4564c273e16c"
   },
   "outputs": [
    {
     "name": "stdout",
     "output_type": "stream",
     "text": [
      "the accuracy on the test set is 92.12 %\n"
     ]
    }
   ],
   "source": [
    "y_predict_train=logistic_reg.prediction(X_train)\n",
    "\n",
    "accuracy_train = checking_accuracy(y_predict_train, y_train)\n",
    "print('the accuracy on the test set is {} %'.format(np.round(accuracy_train*100, 2)))"
   ]
  },
  {
   "cell_type": "markdown",
   "metadata": {
    "colab_type": "text",
    "id": "MT6R8HiucSuN"
   },
   "source": [
    "### Accuracy on the testing set"
   ]
  },
  {
   "cell_type": "code",
   "execution_count": null,
   "metadata": {
    "colab": {},
    "colab_type": "code",
    "id": "OX8duRescSuO",
    "outputId": "2489d842-a173-4a7d-c1b5-db5da8090ce6"
   },
   "outputs": [
    {
     "name": "stdout",
     "output_type": "stream",
     "text": [
      "the accuracy on the test set is 88.55 %\n"
     ]
    }
   ],
   "source": [
    "y_predict_test=logistic_reg.prediction(X_test)\n",
    "\n",
    "accuracy_test = checking_accuracy(y_predict_test, y_test)\n",
    "print('the accuracy on the test set is {} %'.format(np.round(accuracy_test*100, 2)))"
   ]
  },
  {
   "cell_type": "markdown",
   "metadata": {
    "colab_type": "text",
    "id": "-njWSDzfcSuR"
   },
   "source": [
    "# Conclusion"
   ]
  },
  {
   "cell_type": "markdown",
   "metadata": {
    "colab_type": "text",
    "id": "KEk6B7FOcSuS"
   },
   "source": [
    "As we have seen that the difference between the accuracy on the training set and the accuracy on the testing set is less than 4%, so we can have confidence that \n",
    "our model was learning very well. It didn't overfit"
   ]
  }
 ],
 "metadata": {
  "colab": {
   "name": "Example_of _model_we_need.ipynb",
   "provenance": []
  },
  "kernelspec": {
   "display_name": "Python 3",
   "language": "python",
   "name": "python3"
  },
  "language_info": {
   "codemirror_mode": {
    "name": "ipython",
    "version": 3
   },
   "file_extension": ".py",
   "mimetype": "text/x-python",
   "name": "python",
   "nbconvert_exporter": "python",
   "pygments_lexer": "ipython3",
   "version": "3.7.3"
  }
 },
 "nbformat": 4,
 "nbformat_minor": 1
}
